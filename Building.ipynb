{
 "cells": [
  {
   "cell_type": "markdown",
   "metadata": {},
   "source": [
    "# LVT\n",
    "Lightweight Visual Tracking (LVT) is a real-time feature-based visual odometry system, supporting both Stereo and RGB-D sensors. The system is described in the following paper:\n",
    "> Mohamed Aladem and Samir A. Rawashdeh, \"Lightweight Visual Odometry for Autonomous Mobile Robots\". Sensors 2018, 18(9).\n",
    "\n",
    "A video demonstrating the system:\n",
    "\n",
    "[![LVT demo](http://img.youtube.com/vi/t2gr6y90aWI/0.jpg)](http://www.youtube.com/watch?v=t2gr6y90aWI)\n",
    "\n",
    "# Building\n",
    "LVT uses CMake build system. It was built successfully on Linux Ubuntu 16.04 and Windows 10 using MSVC 2017. The build dependencies are:\n",
    "* [Eigen3](http://eigen.tuxfamily.org/index.php?title=Main_Page)\n",
    "* [OpenCV3](https://github.com/opencv/opencv) and [OpenCV3 contrib](https://github.com/opencv/opencv_contrib) which is needed for the BRIEF descriptor extractor.\n",
    "* [G2O](https://github.com/RainerKuemmerle/g2o/releases/tag/20170730_git)\n",
    "* [Pangolin](https://github.com/stevenlovegrove/Pangolin) - OPTIONAL, only needed if LVT is built with visualization enabled.\n",
    "\n",
    "Building then proceeds like any typical CMake-based project using the provided top-level CMakeLists file, which will generate lvt as a static library, lvt_c which is a C-interface for lvt as a shared library, and the executable example projects in their source directories."
   ]
  },
  {
   "cell_type": "code",
   "execution_count": 1,
   "metadata": {},
   "outputs": [],
   "source": [
    "cd catkin_ws/src/lvt"
   ]
  },
  {
   "cell_type": "code",
   "execution_count": 2,
   "metadata": {},
   "outputs": [],
   "source": [
    "mkdir build"
   ]
  },
  {
   "cell_type": "code",
   "execution_count": 3,
   "metadata": {},
   "outputs": [],
   "source": [
    "cd build"
   ]
  },
  {
   "cell_type": "code",
   "execution_count": 4,
   "metadata": {},
   "outputs": [
    {
     "name": "stdout",
     "output_type": "stream",
     "text": [
      "-- The C compiler identification is GNU 5.4.0\n",
      "-- The CXX compiler identification is GNU 5.4.0\n",
      "-- Check for working C compiler: /usr/bin/cc\n",
      "-- Check for working C compiler: /usr/bin/cc -- works\n",
      "-- Detecting C compiler ABI info\n",
      "-- Detecting C compiler ABI info - done\n",
      "-- Detecting C compile features\n",
      "-- Detecting C compile features - done\n",
      "-- Check for working CXX compiler: /usr/bin/c++\n",
      "-- Check for working CXX compiler: /usr/bin/c++ -- works\n",
      "-- Detecting CXX compiler ABI info\n",
      "-- Detecting CXX compiler ABI info - done\n",
      "-- Detecting CXX compile features\n",
      "-- Detecting CXX compile features - done\n",
      "Build type: Release\n",
      "-- Found OpenCV: /opt/ros/kinetic (found suitable version \"3.3.1\", minimum required is \"3.1\") \n",
      "-- Configuring done\n",
      "-- Generating done\n",
      "-- Build files have been written to: /home/jovyan/catkin_ws/src/lvt/build\n"
     ]
    }
   ],
   "source": [
    "cmake .."
   ]
  },
  {
   "cell_type": "code",
   "execution_count": 5,
   "metadata": {},
   "outputs": [
    {
     "name": "stdout",
     "output_type": "stream",
     "text": [
      "Scanning dependencies of target lvt\n",
      "[  5%] Building CXX object CMakeFiles/lvt.dir/lvt/src/lvt_motion_model.cpp.o\n",
      "[ 10%] Building CXX object CMakeFiles/lvt.dir/lvt/src/lvt_pose.cpp.o\n",
      "[ 15%] Building CXX object CMakeFiles/lvt.dir/lvt/src/lvt_image_features_handler.cpp.o\n",
      "[ 21%] Building CXX object CMakeFiles/lvt.dir/lvt/src/lvt_image_features_struct.cpp.o\n",
      "[ 26%] Building CXX object CMakeFiles/lvt.dir/lvt/src/lvt_local_map.cpp.o\n",
      "[ 31%] Building CXX object CMakeFiles/lvt.dir/lvt/src/lvt_pnp_solver.cpp.o\n",
      "[ 36%] Building CXX object CMakeFiles/lvt.dir/lvt/src/lvt_parameters.cpp.o\n",
      "[ 42%] Building CXX object CMakeFiles/lvt.dir/lvt/src/lvt_system.cpp.o\n",
      "[ 47%] Building CXX object CMakeFiles/lvt.dir/lvt/src/lvt_visualization.cpp.o\n",
      "[ 52%] Building CXX object CMakeFiles/lvt.dir/lvt/src/lvt_logging_utils.cpp.o\n",
      "[ 57%] Linking CXX static library liblvt.a\n",
      "[ 57%] Built target lvt\n",
      "Scanning dependencies of target lvt_c\n",
      "Scanning dependencies of target euroc_example\n",
      "Scanning dependencies of target tum_rgbd_example\n",
      "Scanning dependencies of target kitti_example\n",
      "[ 63%] Building CXX object CMakeFiles/euroc_example.dir/examples/euroc/euroc_example.cpp.o\n",
      "[ 68%] Building CXX object CMakeFiles/lvt_c.dir/lvt/src/lvt_c.cpp.o\n",
      "[ 73%] Building CXX object CMakeFiles/tum_rgbd_example.dir/examples/tum_rgbd/tum_rgbd_example.cpp.o\n",
      "[ 78%] Building CXX object CMakeFiles/kitti_example.dir/examples/kitti/kitti_example.cpp.o\n",
      "[ 84%] Linking CXX shared library liblvt_c.so\n",
      "[ 84%] Built target lvt_c\n",
      "[ 89%] Linking CXX executable ../examples/kitti/kitti_example\n",
      "[ 94%] Linking CXX executable ../examples/tum_rgbd/tum_rgbd_example\n",
      "[ 94%] Built target kitti_example\n",
      "[ 94%] Built target tum_rgbd_example\n",
      "[100%] Linking CXX executable ../examples/euroc/euroc_example\n",
      "[100%] Built target euroc_example\n"
     ]
    }
   ],
   "source": [
    "make -j4"
   ]
  },
  {
   "cell_type": "code",
   "execution_count": 9,
   "metadata": {},
   "outputs": [],
   "source": [
    "cd ../examples/kitti"
   ]
  },
  {
   "cell_type": "code",
   "execution_count": 18,
   "metadata": {},
   "outputs": [
    {
     "name": "stdout",
     "output_type": "stream",
     "text": [
      "Aerage frame processing time: 0.0162145\n"
     ]
    }
   ],
   "source": [
    "./kitti_example /DATASET/KITTI/dataset/sequences 7"
   ]
  },
  {
   "cell_type": "markdown",
   "metadata": {},
   "source": [
    "# Using ROS\n",
    "LVT optionally supports the Robot Operating System (ROS) and can build a node compatible with it. It was tested and working successfully with ROS Kinetic Kame. The subdirectory _lvt_ is actually a compatible ROS package which can be copied into your workspace and built directly using catkin."
   ]
  },
  {
   "cell_type": "code",
   "execution_count": 19,
   "metadata": {},
   "outputs": [],
   "source": [
    "roscd lvt"
   ]
  },
  {
   "cell_type": "code",
   "execution_count": 20,
   "metadata": {},
   "outputs": [
    {
     "name": "stdout",
     "output_type": "stream",
     "text": [
      "CMakeLists.txt  cmake  launch  package.xml  src\n"
     ]
    }
   ],
   "source": [
    "ls"
   ]
  },
  {
   "cell_type": "code",
   "execution_count": 23,
   "metadata": {},
   "outputs": [
    {
     "name": "stdout",
     "output_type": "stream",
     "text": [
      "<?xml version=\"1.0\"?>\n",
      "\n",
      "<launch>\n",
      "        <node pkg=\"lvt\" type=\"lvt_node\" name=\"lvt\" output=\"screen\">\n",
      "                <param name=\"tracking_radius\" value=\"25\" />\n",
      "                <param name=\"detection_cell_size\" value=\"250\" />\n",
      "                <param name=\"max_keypoints_per_cell\" value=\"150\" />\n",
      "                <param name=\"agast_threshold\" value=\"20\" />\n",
      "                <param name=\"untracked_threshold\" value=\"10\" />\n",
      "                <param name=\"staged_threshold\" value=\"0\" />\n",
      "                <param name=\"enable_logging\" value=\"1\" />\n",
      "                <param name=\"enable_visualization\" value=\"0\" /> \n",
      "                <param name=\"triangulation_policy\" value=\"3\" />               \n",
      "        </node>\n",
      "</launch>\n",
      "\n"
     ]
    }
   ],
   "source": [
    "cat launch/lvt_node.launch"
   ]
  },
  {
   "cell_type": "code",
   "execution_count": null,
   "metadata": {},
   "outputs": [],
   "source": []
  }
 ],
 "metadata": {
  "kernelspec": {
   "display_name": "Bash",
   "language": "bash",
   "name": "bash"
  },
  "language_info": {
   "codemirror_mode": "shell",
   "file_extension": ".sh",
   "mimetype": "text/x-sh",
   "name": "bash"
  }
 },
 "nbformat": 4,
 "nbformat_minor": 2
}
